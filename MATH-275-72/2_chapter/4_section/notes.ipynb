{
 "cells": [
  {
   "cell_type": "markdown",
   "metadata": {},
   "source": [
    "# Sequences and Summations\n",
    "\n",
    "### Definition 1\n",
    "\n",
    "A *sequence* is a function from a subset of the set of integers\n",
    "(usually either the set {0, 1 ,2,...} or the set {1,2,3,...}) to a set S\n",
    "We use the notation $a_n$ to denote the image of the integer *n*. \n",
    "We call $a_n$ a *term* of the sequence.\n",
    "\n",
    "### Definition 2\n",
    "\n",
    "a geometric progression is a sequence of the form\n",
    "\n",
    "$a, ar, ar^2, ..., ar^n, ...$\n",
    "\n",
    "where the initial term a and the common ratio r are real numbers\n",
    "\n",
    "### Definition 3\n",
    "\n",
    "An arithmetic progression is a sequence of the form\n",
    "\n",
    "$a, a+d, a+2d, ..., a+nd, ...$\n",
    "\n",
    "where the initial term a and the common difference d are real numbers\n",
    "\n",
    "1. string = finite sequences\n",
    "1. empty string = $\\lambda$ = length zero\n",
    "\n"
   ]
  }
 ],
 "metadata": {
  "kernelspec": {
   "display_name": "Python 3",
   "language": "python",
   "name": "python3"
  },
  "language_info": {
   "codemirror_mode": {
    "name": "ipython",
    "version": 3
   },
   "file_extension": ".py",
   "mimetype": "text/x-python",
   "name": "python",
   "nbconvert_exporter": "python",
   "pygments_lexer": "ipython3",
   "version": "3.10.8"
  }
 },
 "nbformat": 4,
 "nbformat_minor": 2
}
