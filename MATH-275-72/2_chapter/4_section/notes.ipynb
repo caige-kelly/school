{
 "cells": [
  {
   "cell_type": "markdown",
   "metadata": {},
   "source": [
    "# Sequences and Summations\n",
    "\n",
    "### Definition 1\n",
    "\n",
    "A *sequence* is a function from a subset of the set of integers\n",
    "(usually either the set {0, 1 ,2,...} or the set {1,2,3,...}) to a set S\n",
    "We use the notation $a_n$ to denote the image of the integer *n*. \n",
    "We call $a_n$ a *term* of the sequence.\n",
    "\n",
    "### Definition 2\n",
    "\n",
    "a geometric progression is a sequence of the form\n",
    "\n",
    "$a, ar, ar^2, ..., ar^n, ...$\n",
    "\n",
    "where the initial term a and the common ratio r are real numbers\n",
    "\n",
    "### Definition 3\n",
    "\n",
    "An arithmetic progression is a sequence of the form\n",
    "\n",
    "$a, a+d, a+2d, ..., a+nd, ...$\n",
    "\n",
    "where the initial term a and the common difference d are real numbers\n",
    "\n",
    "1. string = finite sequences\n",
    "1. empty string = $\\lambda$ = length zero\n",
    "\n",
    "### Definition 4\n",
    "\n",
    "A *recurence relation for the sequence $\\{a_n\\}$ is an equeation that expresses $a_n$\n",
    "in terms of one or more of the previous terms of the sequence, namely $a_0, a_1, ..., a_{n-1}$,\n",
    "for all integers n with $n \\geq n_0$, where $n_0$ is a nongeative integer. A sequence is called a\n",
    "*solution* of a recurrence relation if its terms satisfy the recurrence relation. (a recurrence \n",
    "relation is said to recursively define a sequence)\n",
    "\n",
    "### Definition 5\n",
    "\n",
    "The *Fibonacci sequence, $f_0, f_1, f_2, ...,$ is defined by the initial condition\n",
    "$f_0 = 0, f_1 = 1$, and the recurrence relation\n",
    "\n",
    "$f_n = f_{n-1} + f_{n-2}$\n",
    "\n",
    "for n = 2, 3, 4, ...\n",
    "\n",
    "\n",
    "factorial formula:\n",
    "$n! = n((n-1)(n-2)(n-3)...2 \\times 1) = n(n-1)! = na_{n-1}$\n",
    "\n",
    "solved a recurrence relation when explicit formula called closed formula\n",
    "\n",
    "\n"
   ]
  }
 ],
 "metadata": {
  "kernelspec": {
   "display_name": "Python 3",
   "language": "python",
   "name": "python3"
  },
  "language_info": {
   "codemirror_mode": {
    "name": "ipython",
    "version": 3
   },
   "file_extension": ".py",
   "mimetype": "text/x-python",
   "name": "python",
   "nbconvert_exporter": "python",
   "pygments_lexer": "ipython3",
   "version": "3.10.8"
  }
 },
 "nbformat": 4,
 "nbformat_minor": 2
}
