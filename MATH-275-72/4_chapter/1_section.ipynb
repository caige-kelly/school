{
 "cells": [
  {
   "cell_type": "markdown",
   "metadata": {},
   "source": [
    "# Divisibility And Modular Arithmetic \n",
    "\n",
    "> Theorem 1 <br>\n",
    "Let a, b, and c be integers, where $a \\neq 0$. Then <br>\n",
    "$(i) if a|b and a|c, then a|(b + c)$ <br>\n",
    "$(ii) if a | b, then a | bc for all integers c;$ <br>\n",
    "$(iii) if a | b and b | c, then a | c$.\n",
    "\n",
    "\n",
    "> Corollary 1 <br>\n",
    "if a, b, and c are integers, where a neq 0, such that a|b and a|c , then a|mb+nc whenever m and n are integers\n",
    "\n",
    "## 4.1.3\n",
    "\n",
    "The division algorithm\n",
    "\n",
    "$a = Z$ <br>\n",
    "$d = Z^+$\n",
    "\n",
    "Then there are unique integeres q and r, with $0 \\leq r < d$, <br>\n",
    "such that a = dq + r\n",
    "\n",
    "a is called the *dividend* <br>\n",
    "d is called the *divisor* <br>\n",
    "q is called the *quotient* <br>\n",
    "r is called the *remainder* <br>\n",
    "\n",
    "notation used to express the quotient and remainder \n",
    "\n",
    "q = a div d, r = a mod d \n",
    "\n",
    "## 4.1.4\n",
    "\n",
    "$ m | a - b \\rightarrow a \\cong b (mod m)$. \n",
    "\n",
    "$ a \\cong b (mod m) \\iff a mod m = b mod m$\n",
    "\n",
    "> Theorem 4 <br>\n",
    "Let m be a positive integer. The integers a and b are congruent modulo m <br>\n",
    "if and only if there is an integer k such that a = b + km\n",
    "\n",
    "$ a \\cong b (mod m) \\iff \\exists k (a = b + km)$\n",
    "\n",
    "\n"
   ]
  }
 ],
 "metadata": {
  "language_info": {
   "name": "python"
  }
 },
 "nbformat": 4,
 "nbformat_minor": 2
}
