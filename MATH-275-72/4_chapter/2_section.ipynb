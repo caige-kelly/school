{
 "cells": [
  {
   "cell_type": "code",
   "execution_count": 15,
   "metadata": {},
   "outputs": [
    {
     "name": "stdout",
     "output_type": "stream",
     "text": [
      "0\n",
      "2\n",
      "3\n",
      "None\n"
     ]
    }
   ],
   "source": [
    "import math\n",
    "def base_b_expansion(n, b):\n",
    "    while n != 0:\n",
    "        mod = n % /'b/\n",
    "\n",
    "        jk/n = math.floor(n / b)\n",
    "        pri\n",
    "        nj//j\n",
    "        ;jt;j              j(mod)\n",
    "\n",
    "print(base_b_expansion(120, 6))"
   ]
  }
 ],
 "metadata": {
  "kernelspec": {
   "display_name": "Python 3",
   "language": "python",
   "name": "python3"
  },
  "language_info": {
   "codemirror_mode": {
    "name": "ipython",
    "version": 3
   },
   "file_extension": ".py",
   "mimetype": "text/x-python",
   "name": "python",
   "nbconvert_exporter": "python",
   "pygments_lexer": "ipython3",
   "version": "3.10.8"
  }
 },
 "nbformat": 4,
 "nbformat_minor": 2
}
